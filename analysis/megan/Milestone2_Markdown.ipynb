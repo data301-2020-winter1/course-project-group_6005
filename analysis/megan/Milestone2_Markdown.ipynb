{
 "cells": [
  {
   "cell_type": "markdown",
   "metadata": {},
   "source": [
    "# Markdown demonstration\n",
    "*This is an unordered list of some games I like*\n",
    "- Skyrim\n",
    "- Undertale\n",
    "- League of Legends\n",
    "- Civ3\n",
    "*This is an ordered list where I list cool mammals in alphabetical order*\n",
    "1. Armadillo\n",
    "2. Groundhog\n",
    "3. Meerkat\n",
    "4. Opossum\n",
    "\n",
    "*this is a basic block level code to print hello world*\n",
    "<code>\n",
    "    uwu = \"Hewwo Worwd OwO\"\n",
    "    print(uwu)\n",
    "</code>\n",
    "\n",
    "*this is the* **hypotenuse equation:**\n",
    "$\\sqrt{a^2+b^2}$\n"
   ]
  },
  {
   "cell_type": "code",
   "execution_count": null,
   "metadata": {},
   "outputs": [],
   "source": []
  }
 ],
 "metadata": {
  "kernelspec": {
   "display_name": "Python 3",
   "language": "python",
   "name": "python3"
  },
  "language_info": {
   "codemirror_mode": {
    "name": "ipython",
    "version": 3
   },
   "file_extension": ".py",
   "mimetype": "text/x-python",
   "name": "python",
   "nbconvert_exporter": "python",
   "pygments_lexer": "ipython3",
   "version": "3.8.3"
  }
 },
 "nbformat": 4,
 "nbformat_minor": 4
}
